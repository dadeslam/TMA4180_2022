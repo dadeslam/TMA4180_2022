{
 "cells": [
  {
   "cell_type": "code",
   "execution_count": 1,
   "metadata": {},
   "outputs": [],
   "source": [
    "import numpy as np\n",
    "from CG import CG"
   ]
  },
  {
   "cell_type": "code",
   "execution_count": 2,
   "metadata": {},
   "outputs": [],
   "source": [
    "Q = np.array([[2,-1],[-1,3]])\n",
    "v = np.array([1,2])\n",
    "x0 = np.zeros(2)"
   ]
  },
  {
   "cell_type": "code",
   "execution_count": 3,
   "metadata": {},
   "outputs": [],
   "source": [
    "max_it = 100\n",
    "res, it = CG(Q,-v,x0,max_it=max_it)"
   ]
  },
  {
   "cell_type": "code",
   "execution_count": 4,
   "metadata": {},
   "outputs": [
    {
     "name": "stdout",
     "output_type": "stream",
     "text": [
      "Solution system :  [-1. -1.]\n",
      "CG solution:  [-1. -1.]\n",
      "Required iterations 2\n"
     ]
    }
   ],
   "source": [
    "sol = np.linalg.solve(Q,-v)\n",
    "print(\"Solution system : \", sol)\n",
    "print(\"CG solution: \", res)\n",
    "print(f\"Required iterations {it}\")"
   ]
  },
  {
   "cell_type": "code",
   "execution_count": 5,
   "metadata": {},
   "outputs": [],
   "source": [
    "v = np.ones(20)\n",
    "u = v/np.linalg.norm(v,2)\n",
    "A = 3 * np.eye(20) - 2 * np.outer(u,u)\n",
    "b = np.random.rand(20)"
   ]
  },
  {
   "cell_type": "code",
   "execution_count": 6,
   "metadata": {},
   "outputs": [],
   "source": [
    "res_20, it_20 = CG(A,b,np.zeros(len(b)))"
   ]
  },
  {
   "cell_type": "code",
   "execution_count": 15,
   "metadata": {},
   "outputs": [
    {
     "name": "stdout",
     "output_type": "stream",
     "text": [
      "Solution of the linear system:\n",
      " [0.47616597 0.66864452 0.61180991 0.48016138 0.6297984  0.48337679\n",
      " 0.51684975 0.54023514 0.50466876 0.64557652 0.63790251 0.46381933\n",
      " 0.38654733 0.5153266  0.56698277 0.59983489 0.69620786 0.50060739\n",
      " 0.47669134 0.5801552 ]\n",
      "\n",
      "CG solution: \n",
      "[0.47616597 0.66864452 0.61180991 0.48016138 0.6297984  0.48337679\n",
      " 0.51684975 0.54023514 0.50466876 0.64557652 0.63790251 0.46381933\n",
      " 0.38654733 0.5153266  0.56698277 0.59983489 0.69620786 0.50060739\n",
      " 0.47669134 0.5801552 ]\n",
      "\n",
      "Required iterations:\n",
      "2\n",
      "\n",
      "Is A symmetric?\n",
      "True\n",
      "\n",
      "Eigenvalues of A: [3. 1. 3. 3. 3. 3. 3. 3. 3. 3. 3. 3. 3. 3. 3. 3. 3. 3. 3. 3.]\n"
     ]
    }
   ],
   "source": [
    "print(f\"Solution of the linear system:\\n {np.linalg.solve(A,b)}\\n\")\n",
    "print(f\"CG solution: \\n{res_20}\\n\")\n",
    "print(f\"Required iterations:\\n{it_20}\\n\")\n",
    "print(f\"Is A symmetric?\\n{(A.T==A).all()}\\n\")\n",
    "print(f\"Eigenvalues of A: {np.real(np.linalg.eig(A)[0])}\")"
   ]
  }
 ],
 "metadata": {
  "interpreter": {
   "hash": "aee8b7b246df8f9039afb4144a1f6fd8d2ca17a180786b69acc140d282b71a49"
  },
  "kernelspec": {
   "display_name": "Python 3.9.5 64-bit",
   "language": "python",
   "name": "python3"
  },
  "language_info": {
   "codemirror_mode": {
    "name": "ipython",
    "version": 3
   },
   "file_extension": ".py",
   "mimetype": "text/x-python",
   "name": "python",
   "nbconvert_exporter": "python",
   "pygments_lexer": "ipython3",
   "version": "3.9.5"
  },
  "orig_nbformat": 4
 },
 "nbformat": 4,
 "nbformat_minor": 2
}
