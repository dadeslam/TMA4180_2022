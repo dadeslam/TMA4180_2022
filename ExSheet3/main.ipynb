{
 "cells": [
  {
   "cell_type": "code",
   "execution_count": 1,
   "metadata": {},
   "outputs": [],
   "source": [
    "import numpy as np\n",
    "import matplotlib.pyplot as plt\n",
    "from backtracking import *\n",
    "from gradientDescent import *\n",
    "from newtonMethod import *"
   ]
  },
  {
   "cell_type": "code",
   "execution_count": 6,
   "metadata": {},
   "outputs": [],
   "source": [
    "Q = np.array([[3, 2, 1],[2, 3, 1], [1, 1, 3]])\n",
    "b = np.array([26,26,13])\n",
    "f = lambda x : 0.5 * np.dot(x, Q@x) - np.dot(b,x)\n",
    "grad_f = lambda x: Q@x - b\n",
    "hess_f = lambda x: Q\n",
    "x_0 = np.zeros(*b.shape)\n",
    "x_grad, num_it_grad = gradientDescent(f, grad_f, x_0, tol = 1e-6, max_it = 10000)\n",
    "x_newt, num_it_newt = newtonMethod(f, grad_f, hess_f, x_0, tol = 1e-6, max_it = 10000)"
   ]
  },
  {
   "cell_type": "code",
   "execution_count": 7,
   "metadata": {},
   "outputs": [
    {
     "name": "stdout",
     "output_type": "stream",
     "text": [
      "Approximate solution with Gradient Descent :  [5.00000008 5.00000008 1.00000012]\n",
      "Number of iterations with Gradient Descent :  21\n",
      "Approximate solution with Newton Method :  [5. 5. 1.]\n",
      "Number of iterations with Newton Method :  1\n",
      "Exact solution is:  [5. 5. 1.]\n"
     ]
    }
   ],
   "source": [
    "print(\"Approximate solution with Gradient Descent : \",x_grad)\n",
    "print(\"Number of iterations with Gradient Descent : \",num_it_grad)\n",
    "print(\"Approximate solution with Newton Method : \",x_newt)\n",
    "print(\"Number of iterations with Newton Method : \",num_it_newt)\n",
    "print(\"Exact solution is: \",np.linalg.solve(Q,b))"
   ]
  },
  {
   "cell_type": "code",
   "execution_count": null,
   "metadata": {},
   "outputs": [],
   "source": []
  }
 ],
 "metadata": {
  "interpreter": {
   "hash": "aee8b7b246df8f9039afb4144a1f6fd8d2ca17a180786b69acc140d282b71a49"
  },
  "kernelspec": {
   "display_name": "Python 3.9.5 64-bit",
   "language": "python",
   "name": "python3"
  },
  "language_info": {
   "codemirror_mode": {
    "name": "ipython",
    "version": 3
   },
   "file_extension": ".py",
   "mimetype": "text/x-python",
   "name": "python",
   "nbconvert_exporter": "python",
   "pygments_lexer": "ipython3",
   "version": "3.9.5"
  },
  "orig_nbformat": 4
 },
 "nbformat": 4,
 "nbformat_minor": 2
}
