{
 "cells": [
  {
   "cell_type": "code",
   "execution_count": 1,
   "metadata": {},
   "outputs": [],
   "source": [
    "import numpy as np\n",
    "import matplotlib.pyplot as plt\n",
    "from backtracking import *\n",
    "from BFGS import *\n"
   ]
  },
  {
   "cell_type": "code",
   "execution_count": 2,
   "metadata": {},
   "outputs": [],
   "source": [
    "Q = np.array([[2, -1],[-1, 3]])\n",
    "b = np.array([1,2])\n",
    "f = lambda x : 0.5 * np.dot(x, Q@x) + np.dot(b,x)\n",
    "grad_f = lambda x: Q@x + b\n",
    "hess_f = lambda x: Q\n",
    "x_0 = np.zeros(*b.shape)\n",
    "H_0 = np.eye(len(b))\n",
    "x_BFGS, num_it_BFGS = BFGS(f, grad_f, Q, H_0, x_0, exact = True, tol = 1e-6, max_it = 10000)"
   ]
  },
  {
   "cell_type": "code",
   "execution_count": 3,
   "metadata": {},
   "outputs": [
    {
     "name": "stdout",
     "output_type": "stream",
     "text": [
      "Approximate solution with BFGS :  [-0.99999981 -1.00000001]\n",
      "Number of iterations with BFGS :  9\n",
      "Exact solution is:  [-1. -1.]\n"
     ]
    }
   ],
   "source": [
    "print(\"Approximate solution with BFGS : \",x_BFGS)\n",
    "print(\"Number of iterations with BFGS : \",num_it_BFGS)\n",
    "print(\"Exact solution is: \",np.linalg.solve(Q,-b))"
   ]
  }
 ],
 "metadata": {
  "interpreter": {
   "hash": "aee8b7b246df8f9039afb4144a1f6fd8d2ca17a180786b69acc140d282b71a49"
  },
  "kernelspec": {
   "display_name": "Python 3.9.5 64-bit",
   "language": "python",
   "name": "python3"
  },
  "language_info": {
   "codemirror_mode": {
    "name": "ipython",
    "version": 3
   },
   "file_extension": ".py",
   "mimetype": "text/x-python",
   "name": "python",
   "nbconvert_exporter": "python",
   "pygments_lexer": "ipython3",
   "version": "3.9.5"
  },
  "orig_nbformat": 4
 },
 "nbformat": 4,
 "nbformat_minor": 2
}
